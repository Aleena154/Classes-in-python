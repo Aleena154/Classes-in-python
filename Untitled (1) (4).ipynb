{
 "cells": [
  {
   "cell_type": "code",
   "execution_count": 1,
   "id": "9a0727e0-0624-4856-b8eb-e1db35560993",
   "metadata": {},
   "outputs": [
    {
     "name": "stdout",
     "output_type": "stream",
     "text": [
      "Aleena\n",
      "19\n",
      "Lahore\n",
      " Name=Aleena, age=19, city=Lahore\n"
     ]
    }
   ],
   "source": [
    "#Practice Exercises\n",
    "#Question no. 1\n",
    "#Create a class Person with attributes name, age, and city\n",
    "class person:\n",
    "    def __init__(self,name,age,city):         #object is specified as person\n",
    "        self.name=name                        #init is used as the constructor\n",
    "        self.age=age                          #name,age and city are used as attributes\n",
    "        self.city=city                       #self differentiates attributes from objects\n",
    "    def intro(self):\n",
    "        print(f\" Name={self.name}, age={self.age}, city={self.city}\")\n",
    "\n",
    "myself= person(\"Aleena\",19,\"Lahore\")\n",
    "print(myself.name)\n",
    "print(myself.age)\n",
    "print(myself.city)\n",
    "myself.intro()"
   ]
  },
  {
   "cell_type": "code",
   "execution_count": 1,
   "id": "cee7bb56-aa4d-4715-986a-6ef0023bb4b4",
   "metadata": {},
   "outputs": [
    {
     "name": "stdout",
     "output_type": "stream",
     "text": [
      "2023\n",
      "24\n",
      "2024\n",
      "Make=2023,model=24,year=2024\n"
     ]
    }
   ],
   "source": [
    "#Question no. 2\n",
    "#Create a class Car with attributes make, model, and year\n",
    "class car:\n",
    "    def __init__(self,make,model,year):\n",
    "        self.make=make\n",
    "        self.model=model\n",
    "        self.year=year\n",
    "    def type(self):\n",
    "        print(f\"Make={self.make},model={self.model},year={self.year}\")\n",
    "car_manufacture=car(2023,24,2024)\n",
    "print(car_manufacture.make)\n",
    "print(car_manufacture.model)\n",
    "print(car_manufacture.year)\n",
    "car_manufacture.type()\n"
   ]
  },
  {
   "cell_type": "code",
   "execution_count": 3,
   "id": "05bc518a-cb33-40a6-b7c8-3a2908e2cae2",
   "metadata": {},
   "outputs": [
    {
     "name": "stdout",
     "output_type": "stream",
     "text": [
      "Area of circle is  55.946739\n",
      "Circumference of circle is  26.515042\n"
     ]
    }
   ],
   "source": [
    "#Question no. 3\n",
    "#Create a class Circle with attributes radius and methods to calculate area and circumference\n",
    "import math\n",
    "class circle:\n",
    "    def __init__(self,radius):           #2f if used for formatting making it human readable formatting\n",
    "        self.radius=radius\n",
    "    def area(self):\n",
    "        return math.pi*self.radius**2\n",
    "    def circumference(self):\n",
    "        return 2*math.pi*self.radius\n",
    "my_maths=circle(4.22)\n",
    "print(f\"Area of circle is {my_maths.area(): 2f}\")\n",
    "print(f\"Circumference of circle is {my_maths.circumference(): 2f}\")"
   ]
  },
  {
   "cell_type": "code",
   "execution_count": 11,
   "id": "2fd6fee0-0a3a-44c1-9ee9-4901dc711816",
   "metadata": {},
   "outputs": [
    {
     "name": "stdout",
     "output_type": "stream",
     "text": [
      "Area of resctangle=56.28\n",
      "Perimeter of rectangle=30.200000000000003\n"
     ]
    }
   ],
   "source": [
    "#Question no. 4\n",
    "#Create a class Rectangle with attributes length and width and methods to calculate area and perimeter\n",
    "class rectangle:\n",
    "    def __init__(self,length,width):\n",
    "        self.length=length\n",
    "        self.width=width\n",
    "    def area(self):\n",
    "        print(f\"Area of resctangle={self.length*self.width}\")\n",
    "    def perimeter(self):\n",
    "        print(f\"Perimeter of rectangle={2*(self.length+self.width)}\")\n",
    "my_math=rectangle(6.7,8.4)\n",
    "my_math.area()\n",
    "my_math.perimeter()"
   ]
  },
  {
   "cell_type": "code",
   "execution_count": 27,
   "id": "1d8697ed-0a16-4d6f-b3f0-f440d71e0c99",
   "metadata": {},
   "outputs": [
    {
     "name": "stdout",
     "output_type": "stream",
     "text": [
      "Average of Ayesha Tariq whose roll number is 201 is 31.25\n"
     ]
    }
   ],
   "source": [
    "#Question no. 5\n",
    "# Create a class Student with attributes name, roll_number, and marks. Implement a method to calculate the average marks\n",
    "class student:\n",
    "    def __init__(self,name,roll_number,english,maths,urdu,computer):\n",
    "        self.name=name\n",
    "        self.roll_number=roll_number\n",
    "        self.english=english\n",
    "        self.maths=maths\n",
    "        self.urdu=urdu\n",
    "        self.computer=computer\n",
    "    def average(self):\n",
    "        print(f\"Average of {self.name} whose roll number is {self.roll_number} is {(self.english+self.maths+self.urdu+self.computer)/4}\")\n",
    "student1=student(\"Ayesha Tariq\",201,30,35,25,35)\n",
    "student1.average()\n",
    "    "
   ]
  },
  {
   "cell_type": "code",
   "execution_count": 23,
   "id": "ea9cfebf-2171-442f-b8bf-151108c65d84",
   "metadata": {},
   "outputs": [
    {
     "name": "stdout",
     "output_type": "stream",
     "text": [
      "Title of the book: Harry potter and the Philosopher stone\n",
      "Author of the book: J.K Rowling\n",
      "Publication year of the book: 1996\n",
      "Title of the book: The Kite runner\n",
      "Author of the book: Khalid husseni\n",
      "Publication year of the book: 2010\n"
     ]
    }
   ],
   "source": [
    "#Question no. 6\n",
    "#Create a class Book with attributes title, author, and publication_year\n",
    "class book:\n",
    "    def __init__(self,title,author,publication_year):\n",
    "        self.title=title\n",
    "        self.author=author\n",
    "        self.publication_year=publication_year\n",
    "    def intro(self):\n",
    "        print(f\"Title of the book: {self.title}\")\n",
    "        print(f\"Author of the book: {self.author}\")\n",
    "        print(f\"Publication year of the book: {self.publication_year}\")\n",
    "book1=book(\"Harry potter and the Philosopher stone\",\"J.K Rowling\",1996)\n",
    "book2=book(\"The Kite runner\",\"Khalid husseni\",2010)\n",
    "book1.intro()\n",
    "book2.intro()"
   ]
  },
  {
   "cell_type": "code",
   "execution_count": 31,
   "id": "c54be535-9c0c-421b-815d-4c9605e25214",
   "metadata": {},
   "outputs": [
    {
     "name": "stdout",
     "output_type": "stream",
     "text": [
      "Name of the Employee:Aleena\n",
      "Salary of the eployee:2000000\n",
      "Designation of the employee:HR manager\n"
     ]
    }
   ],
   "source": [
    "#Question no. 7\n",
    "#Create a class Employee with attributes name, salary, and designation\n",
    "class employee:\n",
    "    def __init__(self,name,salary,designation):\n",
    "        self.name=name\n",
    "        self.salary=salary\n",
    "        self.designation=designation\n",
    "    def intro(self):\n",
    "        print(f\"Name of the Employee:{self.name}\")\n",
    "        print(f\"Salary of the eployee:{self.salary}\")\n",
    "        print(f\"Designation of the employee:{self.designation}\")\n",
    "employee1=employee(\"Aleena\",2000000,\"HR manager\")\n",
    "employee1.intro()"
   ]
  },
  {
   "cell_type": "code",
   "execution_count": 45,
   "id": "05e9546a-b797-4bf6-b7d7-1d69034a8e01",
   "metadata": {},
   "outputs": [
    {
     "name": "stdout",
     "output_type": "stream",
     "text": [
      "Total amount after deposit: 53000\n",
      "Insufficient balance\n"
     ]
    }
   ],
   "source": [
    "#Question no. 8\n",
    "#Create a class Bank with attributes name, account_number, and balance. Implement methods to deposit and withdraw money\n",
    "class bank:\n",
    "    def  __init__(self,name,account_number,balance,amount):\n",
    "        self.name=name\n",
    "        self.account_number=account_number\n",
    "        self.balance=balance\n",
    "        self.amount=amount\n",
    "    def deposit(self):\n",
    "        print(f\"Total amount after deposit: {self.amount+self.balance}\")\n",
    "    def withdraw(self):\n",
    "        if self.balance>=self.amount:\n",
    "            print(f\"Total amount after withdrawal: {self.balance-self.amount}\")\n",
    "        else:\n",
    "            print(\"Insufficient balance\")\n",
    "account1=bank(\"Aleena\",302,3000,50000)\n",
    "account1.deposit()\n",
    "account1.withdraw()"
   ]
  },
  {
   "cell_type": "code",
   "execution_count": null,
   "id": "56fb87a4-2e48-403b-b1b4-3a94ae3efc3a",
   "metadata": {},
   "outputs": [],
   "source": [
    "class "
   ]
  }
 ],
 "metadata": {
  "kernelspec": {
   "display_name": "Python 3 (ipykernel)",
   "language": "python",
   "name": "python3"
  },
  "language_info": {
   "codemirror_mode": {
    "name": "ipython",
    "version": 3
   },
   "file_extension": ".py",
   "mimetype": "text/x-python",
   "name": "python",
   "nbconvert_exporter": "python",
   "pygments_lexer": "ipython3",
   "version": "3.12.4"
  }
 },
 "nbformat": 4,
 "nbformat_minor": 5
}
